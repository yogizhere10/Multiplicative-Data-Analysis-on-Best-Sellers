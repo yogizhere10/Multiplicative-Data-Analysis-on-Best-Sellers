{
  "nbformat": 4,
  "nbformat_minor": 0,
  "metadata": {
    "colab": {
      "name": "Argan Oil Serum Sales Forecast.ipynb",
      "provenance": []
    },
    "kernelspec": {
      "name": "python3",
      "display_name": "Python 3"
    },
    "language_info": {
      "name": "python"
    }
  },
  "cells": [
    {
      "cell_type": "code",
      "metadata": {
        "id": "l5G4Tz8uBPFo"
      },
      "source": [
        "import numpy as np\n",
        "import pandas as pd\n",
        "import matplotlib.pyplot as plt\n",
        "import sys\n",
        "import os\n",
        "import warnings\n",
        "warnings.filterwarnings(\"ignore\")"
      ],
      "execution_count": 267,
      "outputs": []
    },
    {
      "cell_type": "code",
      "metadata": {
        "id": "CE24qIZdBVuy"
      },
      "source": [
        "os.chdir('/content/drive/MyDrive/Time Series')"
      ],
      "execution_count": 268,
      "outputs": []
    },
    {
      "cell_type": "code",
      "metadata": {
        "id": "8Z8WXIJOGXvS"
      },
      "source": [
        "df = pd.read_excel('Serum Sales Data.xlsx')"
      ],
      "execution_count": 269,
      "outputs": []
    },
    {
      "cell_type": "code",
      "metadata": {
        "colab": {
          "base_uri": "https://localhost:8080/",
          "height": 203
        },
        "id": "PqoxmksQGl14",
        "outputId": "ea7f2028-7951-4e14-93a1-4adcd32842fd"
      },
      "source": [
        "df.head()"
      ],
      "execution_count": 270,
      "outputs": [
        {
          "output_type": "execute_result",
          "data": {
            "text/html": [
              "<div>\n",
              "<style scoped>\n",
              "    .dataframe tbody tr th:only-of-type {\n",
              "        vertical-align: middle;\n",
              "    }\n",
              "\n",
              "    .dataframe tbody tr th {\n",
              "        vertical-align: top;\n",
              "    }\n",
              "\n",
              "    .dataframe thead th {\n",
              "        text-align: right;\n",
              "    }\n",
              "</style>\n",
              "<table border=\"1\" class=\"dataframe\">\n",
              "  <thead>\n",
              "    <tr style=\"text-align: right;\">\n",
              "      <th></th>\n",
              "      <th>Date</th>\n",
              "      <th>Sales</th>\n",
              "    </tr>\n",
              "  </thead>\n",
              "  <tbody>\n",
              "    <tr>\n",
              "      <th>0</th>\n",
              "      <td>2019-06-01</td>\n",
              "      <td>218</td>\n",
              "    </tr>\n",
              "    <tr>\n",
              "      <th>1</th>\n",
              "      <td>2019-06-02</td>\n",
              "      <td>161</td>\n",
              "    </tr>\n",
              "    <tr>\n",
              "      <th>2</th>\n",
              "      <td>2019-06-03</td>\n",
              "      <td>139</td>\n",
              "    </tr>\n",
              "    <tr>\n",
              "      <th>3</th>\n",
              "      <td>2019-06-04</td>\n",
              "      <td>144</td>\n",
              "    </tr>\n",
              "    <tr>\n",
              "      <th>4</th>\n",
              "      <td>2019-06-05</td>\n",
              "      <td>143</td>\n",
              "    </tr>\n",
              "  </tbody>\n",
              "</table>\n",
              "</div>"
            ],
            "text/plain": [
              "        Date  Sales\n",
              "0 2019-06-01    218\n",
              "1 2019-06-02    161\n",
              "2 2019-06-03    139\n",
              "3 2019-06-04    144\n",
              "4 2019-06-05    143"
            ]
          },
          "metadata": {},
          "execution_count": 270
        }
      ]
    },
    {
      "cell_type": "code",
      "metadata": {
        "colab": {
          "base_uri": "https://localhost:8080/"
        },
        "id": "PUujXrRrGnU5",
        "outputId": "577d66f7-3c8e-4060-826f-0fd76c63fa40"
      },
      "source": [
        "df.dtypes"
      ],
      "execution_count": 271,
      "outputs": [
        {
          "output_type": "execute_result",
          "data": {
            "text/plain": [
              "Date     datetime64[ns]\n",
              "Sales             int64\n",
              "dtype: object"
            ]
          },
          "metadata": {},
          "execution_count": 271
        }
      ]
    },
    {
      "cell_type": "code",
      "metadata": {
        "id": "MDlaJEXoGo7_"
      },
      "source": [
        "df['Date'] = pd.to_datetime(df['Date'])"
      ],
      "execution_count": 272,
      "outputs": []
    },
    {
      "cell_type": "code",
      "metadata": {
        "id": "A-aFQy-aG9F_"
      },
      "source": [
        "df['monthname'] = df['Date'].dt.month_name()"
      ],
      "execution_count": 273,
      "outputs": []
    },
    {
      "cell_type": "code",
      "metadata": {
        "colab": {
          "base_uri": "https://localhost:8080/"
        },
        "id": "kmOa5T5dHCJ5",
        "outputId": "10d82450-8de8-45c3-b24c-c2636e0fdc32"
      },
      "source": [
        "df.shape"
      ],
      "execution_count": 274,
      "outputs": [
        {
          "output_type": "execute_result",
          "data": {
            "text/plain": [
              "(212, 3)"
            ]
          },
          "metadata": {},
          "execution_count": 274
        }
      ]
    },
    {
      "cell_type": "code",
      "metadata": {
        "id": "sgPzZryHHFU2"
      },
      "source": [
        "df['time'] = np.arange(1,213,1)"
      ],
      "execution_count": 275,
      "outputs": []
    },
    {
      "cell_type": "code",
      "metadata": {
        "colab": {
          "base_uri": "https://localhost:8080/",
          "height": 203
        },
        "id": "dlIsF6HLHJUH",
        "outputId": "35cae908-e5cd-485b-e6b9-95ff24b03de3"
      },
      "source": [
        "df.head()"
      ],
      "execution_count": 276,
      "outputs": [
        {
          "output_type": "execute_result",
          "data": {
            "text/html": [
              "<div>\n",
              "<style scoped>\n",
              "    .dataframe tbody tr th:only-of-type {\n",
              "        vertical-align: middle;\n",
              "    }\n",
              "\n",
              "    .dataframe tbody tr th {\n",
              "        vertical-align: top;\n",
              "    }\n",
              "\n",
              "    .dataframe thead th {\n",
              "        text-align: right;\n",
              "    }\n",
              "</style>\n",
              "<table border=\"1\" class=\"dataframe\">\n",
              "  <thead>\n",
              "    <tr style=\"text-align: right;\">\n",
              "      <th></th>\n",
              "      <th>Date</th>\n",
              "      <th>Sales</th>\n",
              "      <th>monthname</th>\n",
              "      <th>time</th>\n",
              "    </tr>\n",
              "  </thead>\n",
              "  <tbody>\n",
              "    <tr>\n",
              "      <th>0</th>\n",
              "      <td>2019-06-01</td>\n",
              "      <td>218</td>\n",
              "      <td>June</td>\n",
              "      <td>1</td>\n",
              "    </tr>\n",
              "    <tr>\n",
              "      <th>1</th>\n",
              "      <td>2019-06-02</td>\n",
              "      <td>161</td>\n",
              "      <td>June</td>\n",
              "      <td>2</td>\n",
              "    </tr>\n",
              "    <tr>\n",
              "      <th>2</th>\n",
              "      <td>2019-06-03</td>\n",
              "      <td>139</td>\n",
              "      <td>June</td>\n",
              "      <td>3</td>\n",
              "    </tr>\n",
              "    <tr>\n",
              "      <th>3</th>\n",
              "      <td>2019-06-04</td>\n",
              "      <td>144</td>\n",
              "      <td>June</td>\n",
              "      <td>4</td>\n",
              "    </tr>\n",
              "    <tr>\n",
              "      <th>4</th>\n",
              "      <td>2019-06-05</td>\n",
              "      <td>143</td>\n",
              "      <td>June</td>\n",
              "      <td>5</td>\n",
              "    </tr>\n",
              "  </tbody>\n",
              "</table>\n",
              "</div>"
            ],
            "text/plain": [
              "        Date  Sales monthname  time\n",
              "0 2019-06-01    218      June     1\n",
              "1 2019-06-02    161      June     2\n",
              "2 2019-06-03    139      June     3\n",
              "3 2019-06-04    144      June     4\n",
              "4 2019-06-05    143      June     5"
            ]
          },
          "metadata": {},
          "execution_count": 276
        }
      ]
    },
    {
      "cell_type": "code",
      "metadata": {
        "id": "_eDRdz4IHKkY"
      },
      "source": [
        "df2 = pd.get_dummies(df['monthname'], drop_first = True)"
      ],
      "execution_count": 277,
      "outputs": []
    },
    {
      "cell_type": "code",
      "metadata": {
        "colab": {
          "base_uri": "https://localhost:8080/",
          "height": 203
        },
        "id": "KfOeVgHRHR0m",
        "outputId": "28e62d11-6709-4f7b-c7fd-6501fab81c47"
      },
      "source": [
        "df2.tail()"
      ],
      "execution_count": 278,
      "outputs": [
        {
          "output_type": "execute_result",
          "data": {
            "text/html": [
              "<div>\n",
              "<style scoped>\n",
              "    .dataframe tbody tr th:only-of-type {\n",
              "        vertical-align: middle;\n",
              "    }\n",
              "\n",
              "    .dataframe tbody tr th {\n",
              "        vertical-align: top;\n",
              "    }\n",
              "\n",
              "    .dataframe thead th {\n",
              "        text-align: right;\n",
              "    }\n",
              "</style>\n",
              "<table border=\"1\" class=\"dataframe\">\n",
              "  <thead>\n",
              "    <tr style=\"text-align: right;\">\n",
              "      <th></th>\n",
              "      <th>December</th>\n",
              "      <th>July</th>\n",
              "      <th>June</th>\n",
              "      <th>November</th>\n",
              "      <th>October</th>\n",
              "      <th>September</th>\n",
              "    </tr>\n",
              "  </thead>\n",
              "  <tbody>\n",
              "    <tr>\n",
              "      <th>207</th>\n",
              "      <td>1</td>\n",
              "      <td>0</td>\n",
              "      <td>0</td>\n",
              "      <td>0</td>\n",
              "      <td>0</td>\n",
              "      <td>0</td>\n",
              "    </tr>\n",
              "    <tr>\n",
              "      <th>208</th>\n",
              "      <td>1</td>\n",
              "      <td>0</td>\n",
              "      <td>0</td>\n",
              "      <td>0</td>\n",
              "      <td>0</td>\n",
              "      <td>0</td>\n",
              "    </tr>\n",
              "    <tr>\n",
              "      <th>209</th>\n",
              "      <td>1</td>\n",
              "      <td>0</td>\n",
              "      <td>0</td>\n",
              "      <td>0</td>\n",
              "      <td>0</td>\n",
              "      <td>0</td>\n",
              "    </tr>\n",
              "    <tr>\n",
              "      <th>210</th>\n",
              "      <td>1</td>\n",
              "      <td>0</td>\n",
              "      <td>0</td>\n",
              "      <td>0</td>\n",
              "      <td>0</td>\n",
              "      <td>0</td>\n",
              "    </tr>\n",
              "    <tr>\n",
              "      <th>211</th>\n",
              "      <td>1</td>\n",
              "      <td>0</td>\n",
              "      <td>0</td>\n",
              "      <td>0</td>\n",
              "      <td>0</td>\n",
              "      <td>0</td>\n",
              "    </tr>\n",
              "  </tbody>\n",
              "</table>\n",
              "</div>"
            ],
            "text/plain": [
              "     December  July  June  November  October  September\n",
              "207         1     0     0         0        0          0\n",
              "208         1     0     0         0        0          0\n",
              "209         1     0     0         0        0          0\n",
              "210         1     0     0         0        0          0\n",
              "211         1     0     0         0        0          0"
            ]
          },
          "metadata": {},
          "execution_count": 278
        }
      ]
    },
    {
      "cell_type": "code",
      "metadata": {
        "id": "OkbxB7L9HT5U"
      },
      "source": [
        "dff = pd.concat([df, df2], axis = 1)"
      ],
      "execution_count": 279,
      "outputs": []
    },
    {
      "cell_type": "code",
      "metadata": {
        "colab": {
          "base_uri": "https://localhost:8080/",
          "height": 203
        },
        "id": "LPndC4YQHbBp",
        "outputId": "b1193d01-1c64-41b9-f0f5-f107cbfccca3"
      },
      "source": [
        "dff.head()"
      ],
      "execution_count": 280,
      "outputs": [
        {
          "output_type": "execute_result",
          "data": {
            "text/html": [
              "<div>\n",
              "<style scoped>\n",
              "    .dataframe tbody tr th:only-of-type {\n",
              "        vertical-align: middle;\n",
              "    }\n",
              "\n",
              "    .dataframe tbody tr th {\n",
              "        vertical-align: top;\n",
              "    }\n",
              "\n",
              "    .dataframe thead th {\n",
              "        text-align: right;\n",
              "    }\n",
              "</style>\n",
              "<table border=\"1\" class=\"dataframe\">\n",
              "  <thead>\n",
              "    <tr style=\"text-align: right;\">\n",
              "      <th></th>\n",
              "      <th>Date</th>\n",
              "      <th>Sales</th>\n",
              "      <th>monthname</th>\n",
              "      <th>time</th>\n",
              "      <th>December</th>\n",
              "      <th>July</th>\n",
              "      <th>June</th>\n",
              "      <th>November</th>\n",
              "      <th>October</th>\n",
              "      <th>September</th>\n",
              "    </tr>\n",
              "  </thead>\n",
              "  <tbody>\n",
              "    <tr>\n",
              "      <th>0</th>\n",
              "      <td>2019-06-01</td>\n",
              "      <td>218</td>\n",
              "      <td>June</td>\n",
              "      <td>1</td>\n",
              "      <td>0</td>\n",
              "      <td>0</td>\n",
              "      <td>1</td>\n",
              "      <td>0</td>\n",
              "      <td>0</td>\n",
              "      <td>0</td>\n",
              "    </tr>\n",
              "    <tr>\n",
              "      <th>1</th>\n",
              "      <td>2019-06-02</td>\n",
              "      <td>161</td>\n",
              "      <td>June</td>\n",
              "      <td>2</td>\n",
              "      <td>0</td>\n",
              "      <td>0</td>\n",
              "      <td>1</td>\n",
              "      <td>0</td>\n",
              "      <td>0</td>\n",
              "      <td>0</td>\n",
              "    </tr>\n",
              "    <tr>\n",
              "      <th>2</th>\n",
              "      <td>2019-06-03</td>\n",
              "      <td>139</td>\n",
              "      <td>June</td>\n",
              "      <td>3</td>\n",
              "      <td>0</td>\n",
              "      <td>0</td>\n",
              "      <td>1</td>\n",
              "      <td>0</td>\n",
              "      <td>0</td>\n",
              "      <td>0</td>\n",
              "    </tr>\n",
              "    <tr>\n",
              "      <th>3</th>\n",
              "      <td>2019-06-04</td>\n",
              "      <td>144</td>\n",
              "      <td>June</td>\n",
              "      <td>4</td>\n",
              "      <td>0</td>\n",
              "      <td>0</td>\n",
              "      <td>1</td>\n",
              "      <td>0</td>\n",
              "      <td>0</td>\n",
              "      <td>0</td>\n",
              "    </tr>\n",
              "    <tr>\n",
              "      <th>4</th>\n",
              "      <td>2019-06-05</td>\n",
              "      <td>143</td>\n",
              "      <td>June</td>\n",
              "      <td>5</td>\n",
              "      <td>0</td>\n",
              "      <td>0</td>\n",
              "      <td>1</td>\n",
              "      <td>0</td>\n",
              "      <td>0</td>\n",
              "      <td>0</td>\n",
              "    </tr>\n",
              "  </tbody>\n",
              "</table>\n",
              "</div>"
            ],
            "text/plain": [
              "        Date  Sales monthname  time  ...  June  November  October  September\n",
              "0 2019-06-01    218      June     1  ...     1         0        0          0\n",
              "1 2019-06-02    161      June     2  ...     1         0        0          0\n",
              "2 2019-06-03    139      June     3  ...     1         0        0          0\n",
              "3 2019-06-04    144      June     4  ...     1         0        0          0\n",
              "4 2019-06-05    143      June     5  ...     1         0        0          0\n",
              "\n",
              "[5 rows x 10 columns]"
            ]
          },
          "metadata": {},
          "execution_count": 280
        }
      ]
    },
    {
      "cell_type": "code",
      "metadata": {
        "colab": {
          "base_uri": "https://localhost:8080/"
        },
        "id": "G1yiS7Q4Hc0f",
        "outputId": "7ca3c6f6-c779-4a5a-bc8e-6264ea8741b5"
      },
      "source": [
        "train = dff.iloc[:80]\n",
        "test = dff.iloc[80:110]\n",
        "train.shape, test.shape"
      ],
      "execution_count": 281,
      "outputs": [
        {
          "output_type": "execute_result",
          "data": {
            "text/plain": [
              "((80, 10), (30, 10))"
            ]
          },
          "metadata": {},
          "execution_count": 281
        }
      ]
    },
    {
      "cell_type": "code",
      "metadata": {
        "id": "r1Vur1HRH-cM"
      },
      "source": [
        "xtrain = train[['time', 'December','July', 'June', 'November', 'October', 'September']].values\n",
        "ytrain = train['Sales'].values"
      ],
      "execution_count": 282,
      "outputs": []
    },
    {
      "cell_type": "code",
      "metadata": {
        "id": "UxqDzHeEIbd2"
      },
      "source": [
        "xtest = test[['time', 'December','July', 'June', 'November', 'October', 'September']].values\n",
        "ytest = test['Sales'].values"
      ],
      "execution_count": 283,
      "outputs": []
    },
    {
      "cell_type": "code",
      "metadata": {
        "colab": {
          "base_uri": "https://localhost:8080/"
        },
        "id": "H78jB4d5J5sR",
        "outputId": "400fb839-42e6-4aa8-f957-13edb9019f74"
      },
      "source": [
        "xtrain.shape, ytrain.shape"
      ],
      "execution_count": 284,
      "outputs": [
        {
          "output_type": "execute_result",
          "data": {
            "text/plain": [
              "((80, 7), (80,))"
            ]
          },
          "metadata": {},
          "execution_count": 284
        }
      ]
    },
    {
      "cell_type": "code",
      "metadata": {
        "colab": {
          "base_uri": "https://localhost:8080/"
        },
        "id": "KouKdXBBJ7jb",
        "outputId": "8228eba6-5904-452c-8b03-4be09441f25f"
      },
      "source": [
        "xtest.shape, ytest.shape"
      ],
      "execution_count": 285,
      "outputs": [
        {
          "output_type": "execute_result",
          "data": {
            "text/plain": [
              "((30, 7), (30,))"
            ]
          },
          "metadata": {},
          "execution_count": 285
        }
      ]
    },
    {
      "cell_type": "code",
      "metadata": {
        "id": "s7yiar4SIjBK"
      },
      "source": [
        "import seaborn as sb"
      ],
      "execution_count": 286,
      "outputs": []
    },
    {
      "cell_type": "code",
      "metadata": {
        "colab": {
          "base_uri": "https://localhost:8080/",
          "height": 1000
        },
        "id": "slbahKM2Invx",
        "outputId": "d1f44521-e120-467a-96e9-a59ad1878d82"
      },
      "source": [
        "plt.figure(figsize = (20,20))\n",
        "#plt.plot(train['Date'], ytrain, 'bo:')\n",
        "plt.plot(train['Date'], ytrain, 'b:')\n",
        "sb.scatterplot('Date', 'Sales', hue = 'monthname', data = train, s = 200, palette = 'Set1')\n",
        "for i in range(len(train['monthname'])):\n",
        "  plt.text(df['Date'][i], df['Sales'][i], df['monthname'][i])\n",
        "plt.show()"
      ],
      "execution_count": 287,
      "outputs": [
        {
          "output_type": "display_data",
          "data": {
            "image/png": "[encoded data removed]",
            "text/plain": [
              "<Figure size 1440x1440 with 1 Axes>"
            ]
          },
          "metadata": {
            "needs_background": "light"
          }
        }
      ]
    },
    {
      "cell_type": "markdown",
      "metadata": {
        "id": "tywPs46mPh_o"
      },
      "source": [
        "#Linear Regression with Time Consideration"
      ]
    },
    {
      "cell_type": "code",
      "metadata": {
        "id": "7EaD_l_II3kU"
      },
      "source": [
        "from sklearn.linear_model import LinearRegression\n",
        "model = LinearRegression()"
      ],
      "execution_count": 288,
      "outputs": []
    },
    {
      "cell_type": "code",
      "metadata": {
        "colab": {
          "base_uri": "https://localhost:8080/"
        },
        "id": "zK5y55PTJYmV",
        "outputId": "fe529f04-86f1-4c2c-918d-5d05e88d443b"
      },
      "source": [
        "model.fit(xtrain, ytrain)"
      ],
      "execution_count": 289,
      "outputs": [
        {
          "output_type": "execute_result",
          "data": {
            "text/plain": [
              "LinearRegression(copy_X=True, fit_intercept=True, n_jobs=None, normalize=False)"
            ]
          },
          "metadata": {},
          "execution_count": 289
        }
      ]
    },
    {
      "cell_type": "code",
      "metadata": {
        "id": "dNDdiLdtJcqT"
      },
      "source": [
        "yfit = model.predict(xtrain)"
      ],
      "execution_count": 290,
      "outputs": []
    },
    {
      "cell_type": "code",
      "metadata": {
        "id": "n2Nd-ux6Je-Y"
      },
      "source": [
        "ypred = model.predict(xtest)"
      ],
      "execution_count": 291,
      "outputs": []
    },
    {
      "cell_type": "code",
      "metadata": {
        "colab": {
          "base_uri": "https://localhost:8080/"
        },
        "id": "nisQ4JPkJhbY",
        "outputId": "a0d5df03-30d5-4abb-fe55-f3b7a83ceb28"
      },
      "source": [
        "#calculate CI\n",
        "error = ytrain - yfit\n",
        "SE = error.std()\n",
        "ME = 1.96 * SE\n",
        "ME"
      ],
      "execution_count": 292,
      "outputs": [
        {
          "output_type": "execute_result",
          "data": {
            "text/plain": [
              "173.69395744245998"
            ]
          },
          "metadata": {},
          "execution_count": 292
        }
      ]
    },
    {
      "cell_type": "code",
      "metadata": {
        "id": "WfEJACwaKaCT"
      },
      "source": [
        "upper = ypred + ME\n",
        "lower = ypred - ME"
      ],
      "execution_count": 293,
      "outputs": []
    },
    {
      "cell_type": "code",
      "metadata": {
        "colab": {
          "base_uri": "https://localhost:8080/",
          "height": 592
        },
        "id": "Ij31GjIbKcDl",
        "outputId": "507833e7-22f9-4b88-8a4f-47deff326550"
      },
      "source": [
        "plt.figure(figsize = (15,10))\n",
        "plt.plot(train['Date'], ytrain, 'bo:')\n",
        "plt.plot(train['Date'], yfit, 'b')\n",
        "# forcasting date\n",
        "plt.plot(test['Date'], ytest, 'o:', color = 'yellow')\n",
        "plt.plot(test['Date'], ypred, color = 'red')\n",
        "plt.fill_between(test['Date'], (upper), (lower), alpha = 0.1, color = 'black')\n",
        "plt.legend(['Time Series','Fitted Line', 'Actual Future Data', 'Fitted Future data', '95% Confidence interval'])\n",
        "plt.show()"
      ],
      "execution_count": 294,
      "outputs": [
        {
          "output_type": "display_data",
          "data": {
            "image/png": "[encoded data removed]",
            "text/plain": [
              "<Figure size 1080x720 with 1 Axes>"
            ]
          },
          "metadata": {
            "needs_background": "light"
          }
        }
      ]
    },
    {
      "cell_type": "markdown",
      "metadata": {
        "id": "jK-fUSZvPbjd"
      },
      "source": [
        "#Linear Regression Model"
      ]
    },
    {
      "cell_type": "code",
      "metadata": {
        "colab": {
          "base_uri": "https://localhost:8080/"
        },
        "id": "lvB4Z1EIKkuP",
        "outputId": "b2520cae-f172-4010-efde-00f518b0543d"
      },
      "source": [
        "xtrain = train[['time']].values\n",
        "ytrain = train['Sales'].values\n",
        "xtrain.shape, ytrain.shape"
      ],
      "execution_count": 295,
      "outputs": [
        {
          "output_type": "execute_result",
          "data": {
            "text/plain": [
              "((80, 1), (80,))"
            ]
          },
          "metadata": {},
          "execution_count": 295
        }
      ]
    },
    {
      "cell_type": "code",
      "metadata": {
        "colab": {
          "base_uri": "https://localhost:8080/"
        },
        "id": "JBtPNe7PMNfs",
        "outputId": "5b740bf2-07a0-4532-b61c-2c03fd7d4d90"
      },
      "source": [
        "xtest = test[['time']].values\n",
        "ytest = test['Sales'].values\n",
        "xtest.shape, ytest.shape"
      ],
      "execution_count": 296,
      "outputs": [
        {
          "output_type": "execute_result",
          "data": {
            "text/plain": [
              "((30, 1), (30,))"
            ]
          },
          "metadata": {},
          "execution_count": 296
        }
      ]
    },
    {
      "cell_type": "code",
      "metadata": {
        "colab": {
          "base_uri": "https://localhost:8080/"
        },
        "id": "3tJMbHJtMPxF",
        "outputId": "b62450ac-d8e1-4ee7-b3fe-7521c74283e8"
      },
      "source": [
        "model.fit(xtrain, ytrain)"
      ],
      "execution_count": 297,
      "outputs": [
        {
          "output_type": "execute_result",
          "data": {
            "text/plain": [
              "LinearRegression(copy_X=True, fit_intercept=True, n_jobs=None, normalize=False)"
            ]
          },
          "metadata": {},
          "execution_count": 297
        }
      ]
    },
    {
      "cell_type": "code",
      "metadata": {
        "id": "QxPvdd2sMT5l"
      },
      "source": [
        "yfit = model.predict(xtrain)"
      ],
      "execution_count": 298,
      "outputs": []
    },
    {
      "cell_type": "code",
      "metadata": {
        "id": "wnw3aHlUMVqu"
      },
      "source": [
        "ypred = model.predict(xtest)"
      ],
      "execution_count": 299,
      "outputs": []
    },
    {
      "cell_type": "code",
      "metadata": {
        "colab": {
          "base_uri": "https://localhost:8080/"
        },
        "id": "YjRn6NxBMX_A",
        "outputId": "f72ed767-a72f-443c-fd6f-c6422d6e671e"
      },
      "source": [
        "#calculate CI\n",
        "error = ytrain - yfit\n",
        "SE = error.std()\n",
        "ME = 1.96 * SE\n",
        "ME"
      ],
      "execution_count": 300,
      "outputs": [
        {
          "output_type": "execute_result",
          "data": {
            "text/plain": [
              "175.75068089142522"
            ]
          },
          "metadata": {},
          "execution_count": 300
        }
      ]
    },
    {
      "cell_type": "code",
      "metadata": {
        "id": "KSRGsGUuMZ-Q"
      },
      "source": [
        "upper = ypred + ME\n",
        "lower = ypred - ME"
      ],
      "execution_count": 301,
      "outputs": []
    },
    {
      "cell_type": "code",
      "metadata": {
        "colab": {
          "base_uri": "https://localhost:8080/",
          "height": 592
        },
        "id": "OooCfbshMcDT",
        "outputId": "9d7a537a-ae1e-4043-cd5f-649eac20a059"
      },
      "source": [
        "plt.figure(figsize = (15,10))\n",
        "plt.plot(train['Date'], ytrain, 'bo:')\n",
        "plt.plot(train['Date'], yfit, 'b')\n",
        "# forcasting date\n",
        "plt.plot(test['Date'], ytest, 'o:', color = 'yellow')\n",
        "plt.plot(test['Date'], ypred, color = 'red')\n",
        "plt.fill_between(test['Date'], (upper), (lower), alpha = 0.1, color = 'black')\n",
        "plt.legend(['Time Series','Fitted Line', 'Actual Future Data', 'Fitted Future data', '95% Confidence interval'])\n",
        "plt.show()"
      ],
      "execution_count": 302,
      "outputs": [
        {
          "output_type": "display_data",
          "data": {
            "image/png": "[encoded data removed]",
            "text/plain": [
              "<Figure size 1080x720 with 1 Axes>"
            ]
          },
          "metadata": {
            "needs_background": "light"
          }
        }
      ]
    },
    {
      "cell_type": "markdown",
      "metadata": {
        "id": "NrD3VGITNNXy"
      },
      "source": [
        "#Multiplicative Model"
      ]
    },
    {
      "cell_type": "code",
      "metadata": {
        "colab": {
          "base_uri": "https://localhost:8080/",
          "height": 203
        },
        "id": "G7WCWtnRMi34",
        "outputId": "a47ffd2c-3da8-4400-9e0e-d9b97568066b"
      },
      "source": [
        "df.head()"
      ],
      "execution_count": 303,
      "outputs": [
        {
          "output_type": "execute_result",
          "data": {
            "text/html": [
              "<div>\n",
              "<style scoped>\n",
              "    .dataframe tbody tr th:only-of-type {\n",
              "        vertical-align: middle;\n",
              "    }\n",
              "\n",
              "    .dataframe tbody tr th {\n",
              "        vertical-align: top;\n",
              "    }\n",
              "\n",
              "    .dataframe thead th {\n",
              "        text-align: right;\n",
              "    }\n",
              "</style>\n",
              "<table border=\"1\" class=\"dataframe\">\n",
              "  <thead>\n",
              "    <tr style=\"text-align: right;\">\n",
              "      <th></th>\n",
              "      <th>Date</th>\n",
              "      <th>Sales</th>\n",
              "      <th>monthname</th>\n",
              "      <th>time</th>\n",
              "    </tr>\n",
              "  </thead>\n",
              "  <tbody>\n",
              "    <tr>\n",
              "      <th>0</th>\n",
              "      <td>2019-06-01</td>\n",
              "      <td>218</td>\n",
              "      <td>June</td>\n",
              "      <td>1</td>\n",
              "    </tr>\n",
              "    <tr>\n",
              "      <th>1</th>\n",
              "      <td>2019-06-02</td>\n",
              "      <td>161</td>\n",
              "      <td>June</td>\n",
              "      <td>2</td>\n",
              "    </tr>\n",
              "    <tr>\n",
              "      <th>2</th>\n",
              "      <td>2019-06-03</td>\n",
              "      <td>139</td>\n",
              "      <td>June</td>\n",
              "      <td>3</td>\n",
              "    </tr>\n",
              "    <tr>\n",
              "      <th>3</th>\n",
              "      <td>2019-06-04</td>\n",
              "      <td>144</td>\n",
              "      <td>June</td>\n",
              "      <td>4</td>\n",
              "    </tr>\n",
              "    <tr>\n",
              "      <th>4</th>\n",
              "      <td>2019-06-05</td>\n",
              "      <td>143</td>\n",
              "      <td>June</td>\n",
              "      <td>5</td>\n",
              "    </tr>\n",
              "  </tbody>\n",
              "</table>\n",
              "</div>"
            ],
            "text/plain": [
              "        Date  Sales monthname  time\n",
              "0 2019-06-01    218      June     1\n",
              "1 2019-06-02    161      June     2\n",
              "2 2019-06-03    139      June     3\n",
              "3 2019-06-04    144      June     4\n",
              "4 2019-06-05    143      June     5"
            ]
          },
          "metadata": {},
          "execution_count": 303
        }
      ]
    },
    {
      "cell_type": "code",
      "metadata": {
        "colab": {
          "base_uri": "https://localhost:8080/"
        },
        "id": "RnUTwro_NRNl",
        "outputId": "e569d353-6308-4945-a9ac-aa92772832fb"
      },
      "source": [
        "train2 = df.iloc[:80]\n",
        "test2 = df.iloc[80:110]\n",
        "train2.shape, test2.shape"
      ],
      "execution_count": 304,
      "outputs": [
        {
          "output_type": "execute_result",
          "data": {
            "text/plain": [
              "((80, 4), (30, 4))"
            ]
          },
          "metadata": {},
          "execution_count": 304
        }
      ]
    },
    {
      "cell_type": "code",
      "metadata": {
        "colab": {
          "base_uri": "https://localhost:8080/"
        },
        "id": "95ewgFIVNZXf",
        "outputId": "60ecb076-bf4e-4023-8f0b-064c35de8bc6"
      },
      "source": [
        "xtrain2 = train2[['time']].values\n",
        "ytrain2 = train2['Sales'].values\n",
        "xtrain2.shape, ytrain2.shape"
      ],
      "execution_count": 305,
      "outputs": [
        {
          "output_type": "execute_result",
          "data": {
            "text/plain": [
              "((80, 1), (80,))"
            ]
          },
          "metadata": {},
          "execution_count": 305
        }
      ]
    },
    {
      "cell_type": "code",
      "metadata": {
        "colab": {
          "base_uri": "https://localhost:8080/"
        },
        "id": "f2Hs-TMENiXh",
        "outputId": "2d915669-f430-4f78-ecc7-81f882f6c9aa"
      },
      "source": [
        "xtest2 = test2[['time']].values\n",
        "ytest2 = test2['Sales'].values\n",
        "xtest2.shape, ytest2.shape"
      ],
      "execution_count": 306,
      "outputs": [
        {
          "output_type": "execute_result",
          "data": {
            "text/plain": [
              "((30, 1), (30,))"
            ]
          },
          "metadata": {},
          "execution_count": 306
        }
      ]
    },
    {
      "cell_type": "code",
      "metadata": {
        "id": "kOXLHjZLNkwq"
      },
      "source": [
        "lrmodel = LinearRegression()"
      ],
      "execution_count": 307,
      "outputs": []
    },
    {
      "cell_type": "code",
      "metadata": {
        "colab": {
          "base_uri": "https://localhost:8080/"
        },
        "id": "EMutpD-rNoNq",
        "outputId": "46614220-4d30-4323-a1b8-9d457f636b4a"
      },
      "source": [
        "lrmodel.fit(xtrain2, ytrain2)"
      ],
      "execution_count": 308,
      "outputs": [
        {
          "output_type": "execute_result",
          "data": {
            "text/plain": [
              "LinearRegression(copy_X=True, fit_intercept=True, n_jobs=None, normalize=False)"
            ]
          },
          "metadata": {},
          "execution_count": 308
        }
      ]
    },
    {
      "cell_type": "code",
      "metadata": {
        "id": "EdyvGzwJNpq3"
      },
      "source": [
        "yfit2 = lrmodel.predict(xtrain2)\n",
        "ypred2 = lrmodel.predict(xtest2)"
      ],
      "execution_count": 309,
      "outputs": []
    },
    {
      "cell_type": "code",
      "metadata": {
        "id": "kkBjCRbQNtD8"
      },
      "source": [
        "train2['predict'] = yfit2"
      ],
      "execution_count": 310,
      "outputs": []
    },
    {
      "cell_type": "code",
      "metadata": {
        "colab": {
          "base_uri": "https://localhost:8080/",
          "height": 203
        },
        "id": "YnX8J1FwNv9T",
        "outputId": "1815be70-be6e-40c2-df1f-b1231b95351b"
      },
      "source": [
        "train2.head()"
      ],
      "execution_count": 311,
      "outputs": [
        {
          "output_type": "execute_result",
          "data": {
            "text/html": [
              "<div>\n",
              "<style scoped>\n",
              "    .dataframe tbody tr th:only-of-type {\n",
              "        vertical-align: middle;\n",
              "    }\n",
              "\n",
              "    .dataframe tbody tr th {\n",
              "        vertical-align: top;\n",
              "    }\n",
              "\n",
              "    .dataframe thead th {\n",
              "        text-align: right;\n",
              "    }\n",
              "</style>\n",
              "<table border=\"1\" class=\"dataframe\">\n",
              "  <thead>\n",
              "    <tr style=\"text-align: right;\">\n",
              "      <th></th>\n",
              "      <th>Date</th>\n",
              "      <th>Sales</th>\n",
              "      <th>monthname</th>\n",
              "      <th>time</th>\n",
              "      <th>predict</th>\n",
              "    </tr>\n",
              "  </thead>\n",
              "  <tbody>\n",
              "    <tr>\n",
              "      <th>0</th>\n",
              "      <td>2019-06-01</td>\n",
              "      <td>218</td>\n",
              "      <td>June</td>\n",
              "      <td>1</td>\n",
              "      <td>196.294444</td>\n",
              "    </tr>\n",
              "    <tr>\n",
              "      <th>1</th>\n",
              "      <td>2019-06-02</td>\n",
              "      <td>161</td>\n",
              "      <td>June</td>\n",
              "      <td>2</td>\n",
              "      <td>195.427180</td>\n",
              "    </tr>\n",
              "    <tr>\n",
              "      <th>2</th>\n",
              "      <td>2019-06-03</td>\n",
              "      <td>139</td>\n",
              "      <td>June</td>\n",
              "      <td>3</td>\n",
              "      <td>194.559916</td>\n",
              "    </tr>\n",
              "    <tr>\n",
              "      <th>3</th>\n",
              "      <td>2019-06-04</td>\n",
              "      <td>144</td>\n",
              "      <td>June</td>\n",
              "      <td>4</td>\n",
              "      <td>193.692651</td>\n",
              "    </tr>\n",
              "    <tr>\n",
              "      <th>4</th>\n",
              "      <td>2019-06-05</td>\n",
              "      <td>143</td>\n",
              "      <td>June</td>\n",
              "      <td>5</td>\n",
              "      <td>192.825387</td>\n",
              "    </tr>\n",
              "  </tbody>\n",
              "</table>\n",
              "</div>"
            ],
            "text/plain": [
              "        Date  Sales monthname  time     predict\n",
              "0 2019-06-01    218      June     1  196.294444\n",
              "1 2019-06-02    161      June     2  195.427180\n",
              "2 2019-06-03    139      June     3  194.559916\n",
              "3 2019-06-04    144      June     4  193.692651\n",
              "4 2019-06-05    143      June     5  192.825387"
            ]
          },
          "metadata": {},
          "execution_count": 311
        }
      ]
    },
    {
      "cell_type": "code",
      "metadata": {
        "id": "OpYEa-kkNyQe"
      },
      "source": [
        "train2['SI'] = train2['Sales'] / train2['predict']"
      ],
      "execution_count": 312,
      "outputs": []
    },
    {
      "cell_type": "code",
      "metadata": {
        "id": "IxqqVzXVN2uu"
      },
      "source": [
        "group = train2[['monthname', 'SI']].groupby(by = 'monthname').mean()"
      ],
      "execution_count": 313,
      "outputs": []
    },
    {
      "cell_type": "code",
      "metadata": {
        "colab": {
          "base_uri": "https://localhost:8080/",
          "height": 172
        },
        "id": "r8EaLlozODKc",
        "outputId": "fe4270c3-07d4-4bf6-988b-0d52d66c40df"
      },
      "source": [
        "group"
      ],
      "execution_count": 314,
      "outputs": [
        {
          "output_type": "execute_result",
          "data": {
            "text/html": [
              "<div>\n",
              "<style scoped>\n",
              "    .dataframe tbody tr th:only-of-type {\n",
              "        vertical-align: middle;\n",
              "    }\n",
              "\n",
              "    .dataframe tbody tr th {\n",
              "        vertical-align: top;\n",
              "    }\n",
              "\n",
              "    .dataframe thead th {\n",
              "        text-align: right;\n",
              "    }\n",
              "</style>\n",
              "<table border=\"1\" class=\"dataframe\">\n",
              "  <thead>\n",
              "    <tr style=\"text-align: right;\">\n",
              "      <th></th>\n",
              "      <th>SI</th>\n",
              "    </tr>\n",
              "    <tr>\n",
              "      <th>monthname</th>\n",
              "      <th></th>\n",
              "    </tr>\n",
              "  </thead>\n",
              "  <tbody>\n",
              "    <tr>\n",
              "      <th>August</th>\n",
              "      <td>0.953855</td>\n",
              "    </tr>\n",
              "    <tr>\n",
              "      <th>July</th>\n",
              "      <td>0.989381</td>\n",
              "    </tr>\n",
              "    <tr>\n",
              "      <th>June</th>\n",
              "      <td>1.037985</td>\n",
              "    </tr>\n",
              "  </tbody>\n",
              "</table>\n",
              "</div>"
            ],
            "text/plain": [
              "                 SI\n",
              "monthname          \n",
              "August     0.953855\n",
              "July       0.989381\n",
              "June       1.037985"
            ]
          },
          "metadata": {},
          "execution_count": 314
        }
      ]
    },
    {
      "cell_type": "code",
      "metadata": {
        "colab": {
          "base_uri": "https://localhost:8080/",
          "height": 203
        },
        "id": "M0v48ttaOLsE",
        "outputId": "3a177b63-8610-4004-c34d-72e22f04e58c"
      },
      "source": [
        "train2 = train2.merge(group, on = 'monthname')\n",
        "train2.head()"
      ],
      "execution_count": 315,
      "outputs": [
        {
          "output_type": "execute_result",
          "data": {
            "text/html": [
              "<div>\n",
              "<style scoped>\n",
              "    .dataframe tbody tr th:only-of-type {\n",
              "        vertical-align: middle;\n",
              "    }\n",
              "\n",
              "    .dataframe tbody tr th {\n",
              "        vertical-align: top;\n",
              "    }\n",
              "\n",
              "    .dataframe thead th {\n",
              "        text-align: right;\n",
              "    }\n",
              "</style>\n",
              "<table border=\"1\" class=\"dataframe\">\n",
              "  <thead>\n",
              "    <tr style=\"text-align: right;\">\n",
              "      <th></th>\n",
              "      <th>Date</th>\n",
              "      <th>Sales</th>\n",
              "      <th>monthname</th>\n",
              "      <th>time</th>\n",
              "      <th>predict</th>\n",
              "      <th>SI_x</th>\n",
              "      <th>SI_y</th>\n",
              "    </tr>\n",
              "  </thead>\n",
              "  <tbody>\n",
              "    <tr>\n",
              "      <th>0</th>\n",
              "      <td>2019-06-01</td>\n",
              "      <td>218</td>\n",
              "      <td>June</td>\n",
              "      <td>1</td>\n",
              "      <td>196.294444</td>\n",
              "      <td>1.110577</td>\n",
              "      <td>1.037985</td>\n",
              "    </tr>\n",
              "    <tr>\n",
              "      <th>1</th>\n",
              "      <td>2019-06-02</td>\n",
              "      <td>161</td>\n",
              "      <td>June</td>\n",
              "      <td>2</td>\n",
              "      <td>195.427180</td>\n",
              "      <td>0.823836</td>\n",
              "      <td>1.037985</td>\n",
              "    </tr>\n",
              "    <tr>\n",
              "      <th>2</th>\n",
              "      <td>2019-06-03</td>\n",
              "      <td>139</td>\n",
              "      <td>June</td>\n",
              "      <td>3</td>\n",
              "      <td>194.559916</td>\n",
              "      <td>0.714433</td>\n",
              "      <td>1.037985</td>\n",
              "    </tr>\n",
              "    <tr>\n",
              "      <th>3</th>\n",
              "      <td>2019-06-04</td>\n",
              "      <td>144</td>\n",
              "      <td>June</td>\n",
              "      <td>4</td>\n",
              "      <td>193.692651</td>\n",
              "      <td>0.743446</td>\n",
              "      <td>1.037985</td>\n",
              "    </tr>\n",
              "    <tr>\n",
              "      <th>4</th>\n",
              "      <td>2019-06-05</td>\n",
              "      <td>143</td>\n",
              "      <td>June</td>\n",
              "      <td>5</td>\n",
              "      <td>192.825387</td>\n",
              "      <td>0.741604</td>\n",
              "      <td>1.037985</td>\n",
              "    </tr>\n",
              "  </tbody>\n",
              "</table>\n",
              "</div>"
            ],
            "text/plain": [
              "        Date  Sales monthname  time     predict      SI_x      SI_y\n",
              "0 2019-06-01    218      June     1  196.294444  1.110577  1.037985\n",
              "1 2019-06-02    161      June     2  195.427180  0.823836  1.037985\n",
              "2 2019-06-03    139      June     3  194.559916  0.714433  1.037985\n",
              "3 2019-06-04    144      June     4  193.692651  0.743446  1.037985\n",
              "4 2019-06-05    143      June     5  192.825387  0.741604  1.037985"
            ]
          },
          "metadata": {},
          "execution_count": 315
        }
      ]
    },
    {
      "cell_type": "code",
      "metadata": {
        "colab": {
          "base_uri": "https://localhost:8080/",
          "height": 203
        },
        "id": "8Hl63lZtOPUY",
        "outputId": "daf903a0-6403-4ae5-dd4f-c034c91d2fcb"
      },
      "source": [
        "train2.rename(columns = {'SI_x' : 'SI'}, inplace = True)\n",
        "train2.rename(columns = {'SI_y' : 'correction factor'}, inplace = True)\n",
        "train2.head()"
      ],
      "execution_count": 316,
      "outputs": [
        {
          "output_type": "execute_result",
          "data": {
            "text/html": [
              "<div>\n",
              "<style scoped>\n",
              "    .dataframe tbody tr th:only-of-type {\n",
              "        vertical-align: middle;\n",
              "    }\n",
              "\n",
              "    .dataframe tbody tr th {\n",
              "        vertical-align: top;\n",
              "    }\n",
              "\n",
              "    .dataframe thead th {\n",
              "        text-align: right;\n",
              "    }\n",
              "</style>\n",
              "<table border=\"1\" class=\"dataframe\">\n",
              "  <thead>\n",
              "    <tr style=\"text-align: right;\">\n",
              "      <th></th>\n",
              "      <th>Date</th>\n",
              "      <th>Sales</th>\n",
              "      <th>monthname</th>\n",
              "      <th>time</th>\n",
              "      <th>predict</th>\n",
              "      <th>SI</th>\n",
              "      <th>correction factor</th>\n",
              "    </tr>\n",
              "  </thead>\n",
              "  <tbody>\n",
              "    <tr>\n",
              "      <th>0</th>\n",
              "      <td>2019-06-01</td>\n",
              "      <td>218</td>\n",
              "      <td>June</td>\n",
              "      <td>1</td>\n",
              "      <td>196.294444</td>\n",
              "      <td>1.110577</td>\n",
              "      <td>1.037985</td>\n",
              "    </tr>\n",
              "    <tr>\n",
              "      <th>1</th>\n",
              "      <td>2019-06-02</td>\n",
              "      <td>161</td>\n",
              "      <td>June</td>\n",
              "      <td>2</td>\n",
              "      <td>195.427180</td>\n",
              "      <td>0.823836</td>\n",
              "      <td>1.037985</td>\n",
              "    </tr>\n",
              "    <tr>\n",
              "      <th>2</th>\n",
              "      <td>2019-06-03</td>\n",
              "      <td>139</td>\n",
              "      <td>June</td>\n",
              "      <td>3</td>\n",
              "      <td>194.559916</td>\n",
              "      <td>0.714433</td>\n",
              "      <td>1.037985</td>\n",
              "    </tr>\n",
              "    <tr>\n",
              "      <th>3</th>\n",
              "      <td>2019-06-04</td>\n",
              "      <td>144</td>\n",
              "      <td>June</td>\n",
              "      <td>4</td>\n",
              "      <td>193.692651</td>\n",
              "      <td>0.743446</td>\n",
              "      <td>1.037985</td>\n",
              "    </tr>\n",
              "    <tr>\n",
              "      <th>4</th>\n",
              "      <td>2019-06-05</td>\n",
              "      <td>143</td>\n",
              "      <td>June</td>\n",
              "      <td>5</td>\n",
              "      <td>192.825387</td>\n",
              "      <td>0.741604</td>\n",
              "      <td>1.037985</td>\n",
              "    </tr>\n",
              "  </tbody>\n",
              "</table>\n",
              "</div>"
            ],
            "text/plain": [
              "        Date  Sales monthname  time     predict        SI  correction factor\n",
              "0 2019-06-01    218      June     1  196.294444  1.110577           1.037985\n",
              "1 2019-06-02    161      June     2  195.427180  0.823836           1.037985\n",
              "2 2019-06-03    139      June     3  194.559916  0.714433           1.037985\n",
              "3 2019-06-04    144      June     4  193.692651  0.743446           1.037985\n",
              "4 2019-06-05    143      June     5  192.825387  0.741604           1.037985"
            ]
          },
          "metadata": {},
          "execution_count": 316
        }
      ]
    },
    {
      "cell_type": "code",
      "metadata": {
        "id": "PDBMEd9cOWhi"
      },
      "source": [
        "train2['fitted value'] = train2['predict'] * train2['correction factor']"
      ],
      "execution_count": 317,
      "outputs": []
    },
    {
      "cell_type": "code",
      "metadata": {
        "colab": {
          "base_uri": "https://localhost:8080/",
          "height": 203
        },
        "id": "uXoeZstXOZs0",
        "outputId": "3d50d49f-9916-4106-b5fa-c74a7bf94106"
      },
      "source": [
        "train2.head()"
      ],
      "execution_count": 318,
      "outputs": [
        {
          "output_type": "execute_result",
          "data": {
            "text/html": [
              "<div>\n",
              "<style scoped>\n",
              "    .dataframe tbody tr th:only-of-type {\n",
              "        vertical-align: middle;\n",
              "    }\n",
              "\n",
              "    .dataframe tbody tr th {\n",
              "        vertical-align: top;\n",
              "    }\n",
              "\n",
              "    .dataframe thead th {\n",
              "        text-align: right;\n",
              "    }\n",
              "</style>\n",
              "<table border=\"1\" class=\"dataframe\">\n",
              "  <thead>\n",
              "    <tr style=\"text-align: right;\">\n",
              "      <th></th>\n",
              "      <th>Date</th>\n",
              "      <th>Sales</th>\n",
              "      <th>monthname</th>\n",
              "      <th>time</th>\n",
              "      <th>predict</th>\n",
              "      <th>SI</th>\n",
              "      <th>correction factor</th>\n",
              "      <th>fitted value</th>\n",
              "    </tr>\n",
              "  </thead>\n",
              "  <tbody>\n",
              "    <tr>\n",
              "      <th>0</th>\n",
              "      <td>2019-06-01</td>\n",
              "      <td>218</td>\n",
              "      <td>June</td>\n",
              "      <td>1</td>\n",
              "      <td>196.294444</td>\n",
              "      <td>1.110577</td>\n",
              "      <td>1.037985</td>\n",
              "      <td>203.750755</td>\n",
              "    </tr>\n",
              "    <tr>\n",
              "      <th>1</th>\n",
              "      <td>2019-06-02</td>\n",
              "      <td>161</td>\n",
              "      <td>June</td>\n",
              "      <td>2</td>\n",
              "      <td>195.427180</td>\n",
              "      <td>0.823836</td>\n",
              "      <td>1.037985</td>\n",
              "      <td>202.850547</td>\n",
              "    </tr>\n",
              "    <tr>\n",
              "      <th>2</th>\n",
              "      <td>2019-06-03</td>\n",
              "      <td>139</td>\n",
              "      <td>June</td>\n",
              "      <td>3</td>\n",
              "      <td>194.559916</td>\n",
              "      <td>0.714433</td>\n",
              "      <td>1.037985</td>\n",
              "      <td>201.950340</td>\n",
              "    </tr>\n",
              "    <tr>\n",
              "      <th>3</th>\n",
              "      <td>2019-06-04</td>\n",
              "      <td>144</td>\n",
              "      <td>June</td>\n",
              "      <td>4</td>\n",
              "      <td>193.692651</td>\n",
              "      <td>0.743446</td>\n",
              "      <td>1.037985</td>\n",
              "      <td>201.050132</td>\n",
              "    </tr>\n",
              "    <tr>\n",
              "      <th>4</th>\n",
              "      <td>2019-06-05</td>\n",
              "      <td>143</td>\n",
              "      <td>June</td>\n",
              "      <td>5</td>\n",
              "      <td>192.825387</td>\n",
              "      <td>0.741604</td>\n",
              "      <td>1.037985</td>\n",
              "      <td>200.149924</td>\n",
              "    </tr>\n",
              "  </tbody>\n",
              "</table>\n",
              "</div>"
            ],
            "text/plain": [
              "        Date  Sales monthname  ...        SI  correction factor  fitted value\n",
              "0 2019-06-01    218      June  ...  1.110577           1.037985    203.750755\n",
              "1 2019-06-02    161      June  ...  0.823836           1.037985    202.850547\n",
              "2 2019-06-03    139      June  ...  0.714433           1.037985    201.950340\n",
              "3 2019-06-04    144      June  ...  0.743446           1.037985    201.050132\n",
              "4 2019-06-05    143      June  ...  0.741604           1.037985    200.149924\n",
              "\n",
              "[5 rows x 8 columns]"
            ]
          },
          "metadata": {},
          "execution_count": 318
        }
      ]
    },
    {
      "cell_type": "code",
      "metadata": {
        "id": "aY9OlSgfObc7"
      },
      "source": [
        "test2['forcasted'] = ypred2"
      ],
      "execution_count": 319,
      "outputs": []
    },
    {
      "cell_type": "code",
      "metadata": {
        "colab": {
          "base_uri": "https://localhost:8080/",
          "height": 203
        },
        "id": "frlqfPzZOfMu",
        "outputId": "d5547557-e21b-49fc-db26-3a4082b03274"
      },
      "source": [
        "test2.head()"
      ],
      "execution_count": 320,
      "outputs": [
        {
          "output_type": "execute_result",
          "data": {
            "text/html": [
              "<div>\n",
              "<style scoped>\n",
              "    .dataframe tbody tr th:only-of-type {\n",
              "        vertical-align: middle;\n",
              "    }\n",
              "\n",
              "    .dataframe tbody tr th {\n",
              "        vertical-align: top;\n",
              "    }\n",
              "\n",
              "    .dataframe thead th {\n",
              "        text-align: right;\n",
              "    }\n",
              "</style>\n",
              "<table border=\"1\" class=\"dataframe\">\n",
              "  <thead>\n",
              "    <tr style=\"text-align: right;\">\n",
              "      <th></th>\n",
              "      <th>Date</th>\n",
              "      <th>Sales</th>\n",
              "      <th>monthname</th>\n",
              "      <th>time</th>\n",
              "      <th>forcasted</th>\n",
              "    </tr>\n",
              "  </thead>\n",
              "  <tbody>\n",
              "    <tr>\n",
              "      <th>80</th>\n",
              "      <td>2019-08-20</td>\n",
              "      <td>304</td>\n",
              "      <td>August</td>\n",
              "      <td>81</td>\n",
              "      <td>126.913291</td>\n",
              "    </tr>\n",
              "    <tr>\n",
              "      <th>81</th>\n",
              "      <td>2019-08-21</td>\n",
              "      <td>217</td>\n",
              "      <td>August</td>\n",
              "      <td>82</td>\n",
              "      <td>126.046027</td>\n",
              "    </tr>\n",
              "    <tr>\n",
              "      <th>82</th>\n",
              "      <td>2019-08-22</td>\n",
              "      <td>171</td>\n",
              "      <td>August</td>\n",
              "      <td>83</td>\n",
              "      <td>125.178762</td>\n",
              "    </tr>\n",
              "    <tr>\n",
              "      <th>83</th>\n",
              "      <td>2019-08-23</td>\n",
              "      <td>173</td>\n",
              "      <td>August</td>\n",
              "      <td>84</td>\n",
              "      <td>124.311498</td>\n",
              "    </tr>\n",
              "    <tr>\n",
              "      <th>84</th>\n",
              "      <td>2019-08-24</td>\n",
              "      <td>311</td>\n",
              "      <td>August</td>\n",
              "      <td>85</td>\n",
              "      <td>123.444233</td>\n",
              "    </tr>\n",
              "  </tbody>\n",
              "</table>\n",
              "</div>"
            ],
            "text/plain": [
              "         Date  Sales monthname  time   forcasted\n",
              "80 2019-08-20    304    August    81  126.913291\n",
              "81 2019-08-21    217    August    82  126.046027\n",
              "82 2019-08-22    171    August    83  125.178762\n",
              "83 2019-08-23    173    August    84  124.311498\n",
              "84 2019-08-24    311    August    85  123.444233"
            ]
          },
          "metadata": {},
          "execution_count": 320
        }
      ]
    },
    {
      "cell_type": "code",
      "metadata": {
        "id": "YMfOaOtbOjub"
      },
      "source": [
        "test2 = pd.merge(test2, group, on = 'monthname').rename(columns = {'SI':'correction factor'})"
      ],
      "execution_count": 321,
      "outputs": []
    },
    {
      "cell_type": "code",
      "metadata": {
        "id": "dj3dhQN7OnPt"
      },
      "source": [
        "test2['forcast_fitted'] = test2['forcasted'] * test2['correction factor']"
      ],
      "execution_count": 322,
      "outputs": []
    },
    {
      "cell_type": "code",
      "metadata": {
        "colab": {
          "base_uri": "https://localhost:8080/",
          "height": 203
        },
        "id": "f032L1BROtE1",
        "outputId": "f77d5638-e2a1-4352-e7e4-5d6772042903"
      },
      "source": [
        "test2.head()"
      ],
      "execution_count": 323,
      "outputs": [
        {
          "output_type": "execute_result",
          "data": {
            "text/html": [
              "<div>\n",
              "<style scoped>\n",
              "    .dataframe tbody tr th:only-of-type {\n",
              "        vertical-align: middle;\n",
              "    }\n",
              "\n",
              "    .dataframe tbody tr th {\n",
              "        vertical-align: top;\n",
              "    }\n",
              "\n",
              "    .dataframe thead th {\n",
              "        text-align: right;\n",
              "    }\n",
              "</style>\n",
              "<table border=\"1\" class=\"dataframe\">\n",
              "  <thead>\n",
              "    <tr style=\"text-align: right;\">\n",
              "      <th></th>\n",
              "      <th>Date</th>\n",
              "      <th>Sales</th>\n",
              "      <th>monthname</th>\n",
              "      <th>time</th>\n",
              "      <th>forcasted</th>\n",
              "      <th>correction factor</th>\n",
              "      <th>forcast_fitted</th>\n",
              "    </tr>\n",
              "  </thead>\n",
              "  <tbody>\n",
              "    <tr>\n",
              "      <th>0</th>\n",
              "      <td>2019-08-20</td>\n",
              "      <td>304</td>\n",
              "      <td>August</td>\n",
              "      <td>81</td>\n",
              "      <td>126.913291</td>\n",
              "      <td>0.953855</td>\n",
              "      <td>121.056901</td>\n",
              "    </tr>\n",
              "    <tr>\n",
              "      <th>1</th>\n",
              "      <td>2019-08-21</td>\n",
              "      <td>217</td>\n",
              "      <td>August</td>\n",
              "      <td>82</td>\n",
              "      <td>126.046027</td>\n",
              "      <td>0.953855</td>\n",
              "      <td>120.229656</td>\n",
              "    </tr>\n",
              "    <tr>\n",
              "      <th>2</th>\n",
              "      <td>2019-08-22</td>\n",
              "      <td>171</td>\n",
              "      <td>August</td>\n",
              "      <td>83</td>\n",
              "      <td>125.178762</td>\n",
              "      <td>0.953855</td>\n",
              "      <td>119.402411</td>\n",
              "    </tr>\n",
              "    <tr>\n",
              "      <th>3</th>\n",
              "      <td>2019-08-23</td>\n",
              "      <td>173</td>\n",
              "      <td>August</td>\n",
              "      <td>84</td>\n",
              "      <td>124.311498</td>\n",
              "      <td>0.953855</td>\n",
              "      <td>118.575167</td>\n",
              "    </tr>\n",
              "    <tr>\n",
              "      <th>4</th>\n",
              "      <td>2019-08-24</td>\n",
              "      <td>311</td>\n",
              "      <td>August</td>\n",
              "      <td>85</td>\n",
              "      <td>123.444233</td>\n",
              "      <td>0.953855</td>\n",
              "      <td>117.747922</td>\n",
              "    </tr>\n",
              "  </tbody>\n",
              "</table>\n",
              "</div>"
            ],
            "text/plain": [
              "        Date  Sales monthname  ...   forcasted  correction factor  forcast_fitted\n",
              "0 2019-08-20    304    August  ...  126.913291           0.953855      121.056901\n",
              "1 2019-08-21    217    August  ...  126.046027           0.953855      120.229656\n",
              "2 2019-08-22    171    August  ...  125.178762           0.953855      119.402411\n",
              "3 2019-08-23    173    August  ...  124.311498           0.953855      118.575167\n",
              "4 2019-08-24    311    August  ...  123.444233           0.953855      117.747922\n",
              "\n",
              "[5 rows x 7 columns]"
            ]
          },
          "metadata": {},
          "execution_count": 323
        }
      ]
    },
    {
      "cell_type": "code",
      "metadata": {
        "colab": {
          "base_uri": "https://localhost:8080/"
        },
        "id": "m3fZc2Z-OuUE",
        "outputId": "f48995cf-08ee-4f61-bbe0-0ecea40dc5f9"
      },
      "source": [
        "error = train2['Sales'] - train2['fitted value']\n",
        "se = error.std()\n",
        "me = 1.96 * se\n",
        "me"
      ],
      "execution_count": 324,
      "outputs": [
        {
          "output_type": "execute_result",
          "data": {
            "text/plain": [
              "176.67393963917098"
            ]
          },
          "metadata": {},
          "execution_count": 324
        }
      ]
    },
    {
      "cell_type": "code",
      "metadata": {
        "id": "MSkSwJAfOyLq"
      },
      "source": [
        "upper = test2['forcast_fitted'] + me\n",
        "lower = test2['forcast_fitted'] - me"
      ],
      "execution_count": 325,
      "outputs": []
    },
    {
      "cell_type": "code",
      "metadata": {
        "colab": {
          "base_uri": "https://localhost:8080/",
          "height": 483
        },
        "id": "nFr84DDMO58C",
        "outputId": "14934d04-278f-44d3-95eb-12186598ba9c"
      },
      "source": [
        "plt.figure(figsize = (12,8))\n",
        "plt.plot(train2['Date'], train2['Sales'], 'bo:')\n",
        "#sb.scatterplot('Years', 'Sales', data = train, hue = 'month', s= 200, palette='Set2')\n",
        "plt.plot(train2['Date'], train2['fitted value'], 'r')\n",
        "plt.plot(test2['Date'], test2['Sales'], 'yo:')\n",
        "#sb.scatterplot('Years', 'Sales', data = test, hue = 'month', s = 200, palette = 'Set2')\n",
        "plt.plot(test2['Date'],test2['forcast_fitted'], 'y' )\n",
        "plt.fill_between(test2['Date'], (upper), (lower), alpha = 0.1, color = 'black')\n",
        "plt.legend(['Train data','Train Fit Line','Test data','Test Fit Line','95% Confidence Interval'])\n",
        "plt.show()"
      ],
      "execution_count": 326,
      "outputs": [
        {
          "output_type": "display_data",
          "data": {
            "image/png": "[encoded data removed]",
            "text/plain": [
              "<Figure size 864x576 with 1 Axes>"
            ]
          },
          "metadata": {
            "needs_background": "light"
          }
        }
      ]
    },
    {
      "cell_type": "code",
      "metadata": {
        "id": "8KtCokO8PKeA"
      },
      "source": [
        ""
      ],
      "execution_count": 326,
      "outputs": []
    }
  ]
}