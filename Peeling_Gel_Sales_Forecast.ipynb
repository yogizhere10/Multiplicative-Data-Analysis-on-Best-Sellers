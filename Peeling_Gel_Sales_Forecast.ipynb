{
  "nbformat": 4,
  "nbformat_minor": 0,
  "metadata": {
    "colab": {
      "name": "Peeling Gel Sales Forecast.ipynb",
      "provenance": []
    },
    "kernelspec": {
      "name": "python3",
      "display_name": "Python 3"
    },
    "language_info": {
      "name": "python"
    }
  },
  "cells": [
    {
      "cell_type": "code",
      "metadata": {
        "id": "vdYR87ESRcHW"
      },
      "source": [
        "import numpy as np\n",
        "import pandas as pd\n",
        "import matplotlib.pyplot as plt\n",
        "import sys\n",
        "import os\n",
        "import warnings\n",
        "warnings.filterwarnings(\"ignore\")"
      ],
      "execution_count": 36,
      "outputs": []
    },
    {
      "cell_type": "code",
      "metadata": {
        "id": "L1a27W8ZRnlz"
      },
      "source": [
        "os.chdir('/content/drive/MyDrive/Time Series')"
      ],
      "execution_count": 37,
      "outputs": []
    },
    {
      "cell_type": "code",
      "metadata": {
        "id": "1LCUUaSHRpua"
      },
      "source": [
        "df = pd.read_excel('Peeling Gel Data.xlsx')"
      ],
      "execution_count": 38,
      "outputs": []
    },
    {
      "cell_type": "code",
      "metadata": {
        "colab": {
          "base_uri": "https://localhost:8080/",
          "height": 203
        },
        "id": "BORn_DibRx7t",
        "outputId": "06620503-f15c-452e-d2eb-81e96c11b622"
      },
      "source": [
        "df.head()"
      ],
      "execution_count": 39,
      "outputs": [
        {
          "output_type": "execute_result",
          "data": {
            "text/html": [
              "<div>\n",
              "<style scoped>\n",
              "    .dataframe tbody tr th:only-of-type {\n",
              "        vertical-align: middle;\n",
              "    }\n",
              "\n",
              "    .dataframe tbody tr th {\n",
              "        vertical-align: top;\n",
              "    }\n",
              "\n",
              "    .dataframe thead th {\n",
              "        text-align: right;\n",
              "    }\n",
              "</style>\n",
              "<table border=\"1\" class=\"dataframe\">\n",
              "  <thead>\n",
              "    <tr style=\"text-align: right;\">\n",
              "      <th></th>\n",
              "      <th>Date</th>\n",
              "      <th>Sales</th>\n",
              "    </tr>\n",
              "  </thead>\n",
              "  <tbody>\n",
              "    <tr>\n",
              "      <th>0</th>\n",
              "      <td>2019-10-12</td>\n",
              "      <td>44</td>\n",
              "    </tr>\n",
              "    <tr>\n",
              "      <th>1</th>\n",
              "      <td>2019-10-13</td>\n",
              "      <td>66</td>\n",
              "    </tr>\n",
              "    <tr>\n",
              "      <th>2</th>\n",
              "      <td>2019-10-14</td>\n",
              "      <td>55</td>\n",
              "    </tr>\n",
              "    <tr>\n",
              "      <th>3</th>\n",
              "      <td>2019-10-15</td>\n",
              "      <td>48</td>\n",
              "    </tr>\n",
              "    <tr>\n",
              "      <th>4</th>\n",
              "      <td>2019-10-16</td>\n",
              "      <td>56</td>\n",
              "    </tr>\n",
              "  </tbody>\n",
              "</table>\n",
              "</div>"
            ],
            "text/plain": [
              "        Date  Sales\n",
              "0 2019-10-12     44\n",
              "1 2019-10-13     66\n",
              "2 2019-10-14     55\n",
              "3 2019-10-15     48\n",
              "4 2019-10-16     56"
            ]
          },
          "metadata": {},
          "execution_count": 39
        }
      ]
    },
    {
      "cell_type": "code",
      "metadata": {
        "colab": {
          "base_uri": "https://localhost:8080/"
        },
        "id": "jGyVQwB4Rzrk",
        "outputId": "8d863154-f145-476b-831b-9523a36db69f"
      },
      "source": [
        "df.dtypes"
      ],
      "execution_count": 40,
      "outputs": [
        {
          "output_type": "execute_result",
          "data": {
            "text/plain": [
              "Date     datetime64[ns]\n",
              "Sales             int64\n",
              "dtype: object"
            ]
          },
          "metadata": {},
          "execution_count": 40
        }
      ]
    },
    {
      "cell_type": "code",
      "metadata": {
        "id": "YZvjMVvYR1r0"
      },
      "source": [
        "df['Date'] = pd.to_datetime(df['Date'])"
      ],
      "execution_count": 41,
      "outputs": []
    },
    {
      "cell_type": "code",
      "metadata": {
        "id": "cs1wYNcrR3T3"
      },
      "source": [
        "df['monthname'] = df['Date'].dt.month_name()"
      ],
      "execution_count": 42,
      "outputs": []
    },
    {
      "cell_type": "code",
      "metadata": {
        "colab": {
          "base_uri": "https://localhost:8080/"
        },
        "id": "z2zxdMqFR5Oq",
        "outputId": "0ba57db7-302e-4de1-d35e-bef9080ef8b5"
      },
      "source": [
        "df.shape"
      ],
      "execution_count": 43,
      "outputs": [
        {
          "output_type": "execute_result",
          "data": {
            "text/plain": [
              "(70, 3)"
            ]
          },
          "metadata": {},
          "execution_count": 43
        }
      ]
    },
    {
      "cell_type": "code",
      "metadata": {
        "id": "FU-MlkwlSH9j"
      },
      "source": [
        "df['monthname'] = df['Date'].dt.month_name()\n",
        "df['time'] = np.arange(1,71,1)"
      ],
      "execution_count": 44,
      "outputs": []
    },
    {
      "cell_type": "code",
      "metadata": {
        "colab": {
          "base_uri": "https://localhost:8080/"
        },
        "id": "7-M5XPpFR7D6",
        "outputId": "04aacb48-7dca-4010-b79f-08570d3abf24"
      },
      "source": [
        "train2 = df.iloc[:40]\n",
        "test2 = df.iloc[40:]\n",
        "train2.shape, test2.shape"
      ],
      "execution_count": 45,
      "outputs": [
        {
          "output_type": "execute_result",
          "data": {
            "text/plain": [
              "((40, 4), (30, 4))"
            ]
          },
          "metadata": {},
          "execution_count": 45
        }
      ]
    },
    {
      "cell_type": "code",
      "metadata": {
        "colab": {
          "base_uri": "https://localhost:8080/",
          "height": 203
        },
        "id": "VDjbNQDgSG0B",
        "outputId": "fcdae893-f96d-4894-bd75-3eada3a561ea"
      },
      "source": [
        "df.head()"
      ],
      "execution_count": 46,
      "outputs": [
        {
          "output_type": "execute_result",
          "data": {
            "text/html": [
              "<div>\n",
              "<style scoped>\n",
              "    .dataframe tbody tr th:only-of-type {\n",
              "        vertical-align: middle;\n",
              "    }\n",
              "\n",
              "    .dataframe tbody tr th {\n",
              "        vertical-align: top;\n",
              "    }\n",
              "\n",
              "    .dataframe thead th {\n",
              "        text-align: right;\n",
              "    }\n",
              "</style>\n",
              "<table border=\"1\" class=\"dataframe\">\n",
              "  <thead>\n",
              "    <tr style=\"text-align: right;\">\n",
              "      <th></th>\n",
              "      <th>Date</th>\n",
              "      <th>Sales</th>\n",
              "      <th>monthname</th>\n",
              "      <th>time</th>\n",
              "    </tr>\n",
              "  </thead>\n",
              "  <tbody>\n",
              "    <tr>\n",
              "      <th>0</th>\n",
              "      <td>2019-10-12</td>\n",
              "      <td>44</td>\n",
              "      <td>October</td>\n",
              "      <td>1</td>\n",
              "    </tr>\n",
              "    <tr>\n",
              "      <th>1</th>\n",
              "      <td>2019-10-13</td>\n",
              "      <td>66</td>\n",
              "      <td>October</td>\n",
              "      <td>2</td>\n",
              "    </tr>\n",
              "    <tr>\n",
              "      <th>2</th>\n",
              "      <td>2019-10-14</td>\n",
              "      <td>55</td>\n",
              "      <td>October</td>\n",
              "      <td>3</td>\n",
              "    </tr>\n",
              "    <tr>\n",
              "      <th>3</th>\n",
              "      <td>2019-10-15</td>\n",
              "      <td>48</td>\n",
              "      <td>October</td>\n",
              "      <td>4</td>\n",
              "    </tr>\n",
              "    <tr>\n",
              "      <th>4</th>\n",
              "      <td>2019-10-16</td>\n",
              "      <td>56</td>\n",
              "      <td>October</td>\n",
              "      <td>5</td>\n",
              "    </tr>\n",
              "  </tbody>\n",
              "</table>\n",
              "</div>"
            ],
            "text/plain": [
              "        Date  Sales monthname  time\n",
              "0 2019-10-12     44   October     1\n",
              "1 2019-10-13     66   October     2\n",
              "2 2019-10-14     55   October     3\n",
              "3 2019-10-15     48   October     4\n",
              "4 2019-10-16     56   October     5"
            ]
          },
          "metadata": {},
          "execution_count": 46
        }
      ]
    },
    {
      "cell_type": "code",
      "metadata": {
        "colab": {
          "base_uri": "https://localhost:8080/"
        },
        "id": "CJlKNqlgSCwj",
        "outputId": "59668b69-1caa-4d73-b5f9-36e326df09b1"
      },
      "source": [
        "xtrain2 = train2[['time']].values\n",
        "ytrain2 = train2['Sales'].values\n",
        "xtrain2.shape, ytrain2.shape"
      ],
      "execution_count": 47,
      "outputs": [
        {
          "output_type": "execute_result",
          "data": {
            "text/plain": [
              "((40, 1), (40,))"
            ]
          },
          "metadata": {},
          "execution_count": 47
        }
      ]
    },
    {
      "cell_type": "code",
      "metadata": {
        "colab": {
          "base_uri": "https://localhost:8080/"
        },
        "id": "icAnWefsSEdp",
        "outputId": "897cfb3a-ad0e-4367-c71e-9bfb47b9a5e3"
      },
      "source": [
        "xtest2 = test2[['time']].values\n",
        "ytest2 = test2['Sales'].values\n",
        "xtest2.shape, ytest2.shape"
      ],
      "execution_count": 48,
      "outputs": [
        {
          "output_type": "execute_result",
          "data": {
            "text/plain": [
              "((30, 1), (30,))"
            ]
          },
          "metadata": {},
          "execution_count": 48
        }
      ]
    },
    {
      "cell_type": "code",
      "metadata": {
        "id": "7WWasmd1SZhx"
      },
      "source": [
        "from sklearn.linear_model import LinearRegression"
      ],
      "execution_count": 49,
      "outputs": []
    },
    {
      "cell_type": "code",
      "metadata": {
        "id": "9m2AjMDhSdL7"
      },
      "source": [
        "lrmodel = LinearRegression()"
      ],
      "execution_count": 50,
      "outputs": []
    },
    {
      "cell_type": "code",
      "metadata": {
        "colab": {
          "base_uri": "https://localhost:8080/"
        },
        "id": "wAlmpR3eSgMm",
        "outputId": "af001530-a7fe-4bfc-9c37-bfb982dc07bf"
      },
      "source": [
        "lrmodel.fit(xtrain2, ytrain2)"
      ],
      "execution_count": 51,
      "outputs": [
        {
          "output_type": "execute_result",
          "data": {
            "text/plain": [
              "LinearRegression(copy_X=True, fit_intercept=True, n_jobs=None, normalize=False)"
            ]
          },
          "metadata": {},
          "execution_count": 51
        }
      ]
    },
    {
      "cell_type": "code",
      "metadata": {
        "id": "SUFvtgVgSj1T"
      },
      "source": [
        "yfit2 = lrmodel.predict(xtrain2)\n",
        "ypred2 = lrmodel.predict(xtest2)"
      ],
      "execution_count": 52,
      "outputs": []
    },
    {
      "cell_type": "code",
      "metadata": {
        "id": "zPV03fKcSl6l"
      },
      "source": [
        "train2['predict'] = yfit2"
      ],
      "execution_count": 53,
      "outputs": []
    },
    {
      "cell_type": "code",
      "metadata": {
        "colab": {
          "base_uri": "https://localhost:8080/",
          "height": 203
        },
        "id": "W4NbwaMgSoRK",
        "outputId": "345700fb-edac-4bf0-e612-5525a2ab6a8a"
      },
      "source": [
        "train2.head()"
      ],
      "execution_count": 54,
      "outputs": [
        {
          "output_type": "execute_result",
          "data": {
            "text/html": [
              "<div>\n",
              "<style scoped>\n",
              "    .dataframe tbody tr th:only-of-type {\n",
              "        vertical-align: middle;\n",
              "    }\n",
              "\n",
              "    .dataframe tbody tr th {\n",
              "        vertical-align: top;\n",
              "    }\n",
              "\n",
              "    .dataframe thead th {\n",
              "        text-align: right;\n",
              "    }\n",
              "</style>\n",
              "<table border=\"1\" class=\"dataframe\">\n",
              "  <thead>\n",
              "    <tr style=\"text-align: right;\">\n",
              "      <th></th>\n",
              "      <th>Date</th>\n",
              "      <th>Sales</th>\n",
              "      <th>monthname</th>\n",
              "      <th>time</th>\n",
              "      <th>predict</th>\n",
              "    </tr>\n",
              "  </thead>\n",
              "  <tbody>\n",
              "    <tr>\n",
              "      <th>0</th>\n",
              "      <td>2019-10-12</td>\n",
              "      <td>44</td>\n",
              "      <td>October</td>\n",
              "      <td>1</td>\n",
              "      <td>56.407317</td>\n",
              "    </tr>\n",
              "    <tr>\n",
              "      <th>1</th>\n",
              "      <td>2019-10-13</td>\n",
              "      <td>66</td>\n",
              "      <td>October</td>\n",
              "      <td>2</td>\n",
              "      <td>56.091557</td>\n",
              "    </tr>\n",
              "    <tr>\n",
              "      <th>2</th>\n",
              "      <td>2019-10-14</td>\n",
              "      <td>55</td>\n",
              "      <td>October</td>\n",
              "      <td>3</td>\n",
              "      <td>55.775797</td>\n",
              "    </tr>\n",
              "    <tr>\n",
              "      <th>3</th>\n",
              "      <td>2019-10-15</td>\n",
              "      <td>48</td>\n",
              "      <td>October</td>\n",
              "      <td>4</td>\n",
              "      <td>55.460038</td>\n",
              "    </tr>\n",
              "    <tr>\n",
              "      <th>4</th>\n",
              "      <td>2019-10-16</td>\n",
              "      <td>56</td>\n",
              "      <td>October</td>\n",
              "      <td>5</td>\n",
              "      <td>55.144278</td>\n",
              "    </tr>\n",
              "  </tbody>\n",
              "</table>\n",
              "</div>"
            ],
            "text/plain": [
              "        Date  Sales monthname  time    predict\n",
              "0 2019-10-12     44   October     1  56.407317\n",
              "1 2019-10-13     66   October     2  56.091557\n",
              "2 2019-10-14     55   October     3  55.775797\n",
              "3 2019-10-15     48   October     4  55.460038\n",
              "4 2019-10-16     56   October     5  55.144278"
            ]
          },
          "metadata": {},
          "execution_count": 54
        }
      ]
    },
    {
      "cell_type": "code",
      "metadata": {
        "id": "sCBrxOU2SqiR"
      },
      "source": [
        "train2['SI'] = train2['Sales'] / train2['predict']"
      ],
      "execution_count": 55,
      "outputs": []
    },
    {
      "cell_type": "code",
      "metadata": {
        "id": "7pSvVhHAStnn"
      },
      "source": [
        "group = train2[['monthname', 'SI']].groupby(by = 'monthname').mean()"
      ],
      "execution_count": 56,
      "outputs": []
    },
    {
      "cell_type": "code",
      "metadata": {
        "colab": {
          "base_uri": "https://localhost:8080/",
          "height": 142
        },
        "id": "HMvFARDySwBL",
        "outputId": "356ea575-a958-452d-c05c-6adec9afd1e0"
      },
      "source": [
        "group"
      ],
      "execution_count": 57,
      "outputs": [
        {
          "output_type": "execute_result",
          "data": {
            "text/html": [
              "<div>\n",
              "<style scoped>\n",
              "    .dataframe tbody tr th:only-of-type {\n",
              "        vertical-align: middle;\n",
              "    }\n",
              "\n",
              "    .dataframe tbody tr th {\n",
              "        vertical-align: top;\n",
              "    }\n",
              "\n",
              "    .dataframe thead th {\n",
              "        text-align: right;\n",
              "    }\n",
              "</style>\n",
              "<table border=\"1\" class=\"dataframe\">\n",
              "  <thead>\n",
              "    <tr style=\"text-align: right;\">\n",
              "      <th></th>\n",
              "      <th>SI</th>\n",
              "    </tr>\n",
              "    <tr>\n",
              "      <th>monthname</th>\n",
              "      <th></th>\n",
              "    </tr>\n",
              "  </thead>\n",
              "  <tbody>\n",
              "    <tr>\n",
              "      <th>November</th>\n",
              "      <td>0.988165</td>\n",
              "    </tr>\n",
              "    <tr>\n",
              "      <th>October</th>\n",
              "      <td>1.011814</td>\n",
              "    </tr>\n",
              "  </tbody>\n",
              "</table>\n",
              "</div>"
            ],
            "text/plain": [
              "                 SI\n",
              "monthname          \n",
              "November   0.988165\n",
              "October    1.011814"
            ]
          },
          "metadata": {},
          "execution_count": 57
        }
      ]
    },
    {
      "cell_type": "code",
      "metadata": {
        "colab": {
          "base_uri": "https://localhost:8080/",
          "height": 203
        },
        "id": "BRTJ7n-fSyV0",
        "outputId": "82896845-211f-4ef6-eb76-5af74631e094"
      },
      "source": [
        "train2 = train2.merge(group, on = 'monthname')\n",
        "train2.head()"
      ],
      "execution_count": 58,
      "outputs": [
        {
          "output_type": "execute_result",
          "data": {
            "text/html": [
              "<div>\n",
              "<style scoped>\n",
              "    .dataframe tbody tr th:only-of-type {\n",
              "        vertical-align: middle;\n",
              "    }\n",
              "\n",
              "    .dataframe tbody tr th {\n",
              "        vertical-align: top;\n",
              "    }\n",
              "\n",
              "    .dataframe thead th {\n",
              "        text-align: right;\n",
              "    }\n",
              "</style>\n",
              "<table border=\"1\" class=\"dataframe\">\n",
              "  <thead>\n",
              "    <tr style=\"text-align: right;\">\n",
              "      <th></th>\n",
              "      <th>Date</th>\n",
              "      <th>Sales</th>\n",
              "      <th>monthname</th>\n",
              "      <th>time</th>\n",
              "      <th>predict</th>\n",
              "      <th>SI_x</th>\n",
              "      <th>SI_y</th>\n",
              "    </tr>\n",
              "  </thead>\n",
              "  <tbody>\n",
              "    <tr>\n",
              "      <th>0</th>\n",
              "      <td>2019-10-12</td>\n",
              "      <td>44</td>\n",
              "      <td>October</td>\n",
              "      <td>1</td>\n",
              "      <td>56.407317</td>\n",
              "      <td>0.780041</td>\n",
              "      <td>1.011814</td>\n",
              "    </tr>\n",
              "    <tr>\n",
              "      <th>1</th>\n",
              "      <td>2019-10-13</td>\n",
              "      <td>66</td>\n",
              "      <td>October</td>\n",
              "      <td>2</td>\n",
              "      <td>56.091557</td>\n",
              "      <td>1.176648</td>\n",
              "      <td>1.011814</td>\n",
              "    </tr>\n",
              "    <tr>\n",
              "      <th>2</th>\n",
              "      <td>2019-10-14</td>\n",
              "      <td>55</td>\n",
              "      <td>October</td>\n",
              "      <td>3</td>\n",
              "      <td>55.775797</td>\n",
              "      <td>0.986091</td>\n",
              "      <td>1.011814</td>\n",
              "    </tr>\n",
              "    <tr>\n",
              "      <th>3</th>\n",
              "      <td>2019-10-15</td>\n",
              "      <td>48</td>\n",
              "      <td>October</td>\n",
              "      <td>4</td>\n",
              "      <td>55.460038</td>\n",
              "      <td>0.865488</td>\n",
              "      <td>1.011814</td>\n",
              "    </tr>\n",
              "    <tr>\n",
              "      <th>4</th>\n",
              "      <td>2019-10-16</td>\n",
              "      <td>56</td>\n",
              "      <td>October</td>\n",
              "      <td>5</td>\n",
              "      <td>55.144278</td>\n",
              "      <td>1.015518</td>\n",
              "      <td>1.011814</td>\n",
              "    </tr>\n",
              "  </tbody>\n",
              "</table>\n",
              "</div>"
            ],
            "text/plain": [
              "        Date  Sales monthname  time    predict      SI_x      SI_y\n",
              "0 2019-10-12     44   October     1  56.407317  0.780041  1.011814\n",
              "1 2019-10-13     66   October     2  56.091557  1.176648  1.011814\n",
              "2 2019-10-14     55   October     3  55.775797  0.986091  1.011814\n",
              "3 2019-10-15     48   October     4  55.460038  0.865488  1.011814\n",
              "4 2019-10-16     56   October     5  55.144278  1.015518  1.011814"
            ]
          },
          "metadata": {},
          "execution_count": 58
        }
      ]
    },
    {
      "cell_type": "code",
      "metadata": {
        "colab": {
          "base_uri": "https://localhost:8080/",
          "height": 203
        },
        "id": "KmIBEBrWS0vg",
        "outputId": "08a83908-a376-4905-ee80-e4554c3d2cf1"
      },
      "source": [
        "train2.rename(columns = {'SI_x' : 'SI'}, inplace = True)\n",
        "train2.rename(columns = {'SI_y' : 'correction factor'}, inplace = True)\n",
        "train2.head()"
      ],
      "execution_count": 59,
      "outputs": [
        {
          "output_type": "execute_result",
          "data": {
            "text/html": [
              "<div>\n",
              "<style scoped>\n",
              "    .dataframe tbody tr th:only-of-type {\n",
              "        vertical-align: middle;\n",
              "    }\n",
              "\n",
              "    .dataframe tbody tr th {\n",
              "        vertical-align: top;\n",
              "    }\n",
              "\n",
              "    .dataframe thead th {\n",
              "        text-align: right;\n",
              "    }\n",
              "</style>\n",
              "<table border=\"1\" class=\"dataframe\">\n",
              "  <thead>\n",
              "    <tr style=\"text-align: right;\">\n",
              "      <th></th>\n",
              "      <th>Date</th>\n",
              "      <th>Sales</th>\n",
              "      <th>monthname</th>\n",
              "      <th>time</th>\n",
              "      <th>predict</th>\n",
              "      <th>SI</th>\n",
              "      <th>correction factor</th>\n",
              "    </tr>\n",
              "  </thead>\n",
              "  <tbody>\n",
              "    <tr>\n",
              "      <th>0</th>\n",
              "      <td>2019-10-12</td>\n",
              "      <td>44</td>\n",
              "      <td>October</td>\n",
              "      <td>1</td>\n",
              "      <td>56.407317</td>\n",
              "      <td>0.780041</td>\n",
              "      <td>1.011814</td>\n",
              "    </tr>\n",
              "    <tr>\n",
              "      <th>1</th>\n",
              "      <td>2019-10-13</td>\n",
              "      <td>66</td>\n",
              "      <td>October</td>\n",
              "      <td>2</td>\n",
              "      <td>56.091557</td>\n",
              "      <td>1.176648</td>\n",
              "      <td>1.011814</td>\n",
              "    </tr>\n",
              "    <tr>\n",
              "      <th>2</th>\n",
              "      <td>2019-10-14</td>\n",
              "      <td>55</td>\n",
              "      <td>October</td>\n",
              "      <td>3</td>\n",
              "      <td>55.775797</td>\n",
              "      <td>0.986091</td>\n",
              "      <td>1.011814</td>\n",
              "    </tr>\n",
              "    <tr>\n",
              "      <th>3</th>\n",
              "      <td>2019-10-15</td>\n",
              "      <td>48</td>\n",
              "      <td>October</td>\n",
              "      <td>4</td>\n",
              "      <td>55.460038</td>\n",
              "      <td>0.865488</td>\n",
              "      <td>1.011814</td>\n",
              "    </tr>\n",
              "    <tr>\n",
              "      <th>4</th>\n",
              "      <td>2019-10-16</td>\n",
              "      <td>56</td>\n",
              "      <td>October</td>\n",
              "      <td>5</td>\n",
              "      <td>55.144278</td>\n",
              "      <td>1.015518</td>\n",
              "      <td>1.011814</td>\n",
              "    </tr>\n",
              "  </tbody>\n",
              "</table>\n",
              "</div>"
            ],
            "text/plain": [
              "        Date  Sales monthname  time    predict        SI  correction factor\n",
              "0 2019-10-12     44   October     1  56.407317  0.780041           1.011814\n",
              "1 2019-10-13     66   October     2  56.091557  1.176648           1.011814\n",
              "2 2019-10-14     55   October     3  55.775797  0.986091           1.011814\n",
              "3 2019-10-15     48   October     4  55.460038  0.865488           1.011814\n",
              "4 2019-10-16     56   October     5  55.144278  1.015518           1.011814"
            ]
          },
          "metadata": {},
          "execution_count": 59
        }
      ]
    },
    {
      "cell_type": "code",
      "metadata": {
        "id": "ovY3YPXjS4k9"
      },
      "source": [
        "train2['fitted value'] = train2['predict'] * train2['correction factor']"
      ],
      "execution_count": 60,
      "outputs": []
    },
    {
      "cell_type": "code",
      "metadata": {
        "id": "1Nju4L7KS7JX"
      },
      "source": [
        "test2['forcasted'] = ypred2"
      ],
      "execution_count": 61,
      "outputs": []
    },
    {
      "cell_type": "code",
      "metadata": {
        "colab": {
          "base_uri": "https://localhost:8080/",
          "height": 203
        },
        "id": "AaWKMYtdS82Z",
        "outputId": "97657b04-2a23-4b73-bec8-ec0ecd0994ae"
      },
      "source": [
        "test2.head()"
      ],
      "execution_count": 62,
      "outputs": [
        {
          "output_type": "execute_result",
          "data": {
            "text/html": [
              "<div>\n",
              "<style scoped>\n",
              "    .dataframe tbody tr th:only-of-type {\n",
              "        vertical-align: middle;\n",
              "    }\n",
              "\n",
              "    .dataframe tbody tr th {\n",
              "        vertical-align: top;\n",
              "    }\n",
              "\n",
              "    .dataframe thead th {\n",
              "        text-align: right;\n",
              "    }\n",
              "</style>\n",
              "<table border=\"1\" class=\"dataframe\">\n",
              "  <thead>\n",
              "    <tr style=\"text-align: right;\">\n",
              "      <th></th>\n",
              "      <th>Date</th>\n",
              "      <th>Sales</th>\n",
              "      <th>monthname</th>\n",
              "      <th>time</th>\n",
              "      <th>forcasted</th>\n",
              "    </tr>\n",
              "  </thead>\n",
              "  <tbody>\n",
              "    <tr>\n",
              "      <th>40</th>\n",
              "      <td>2019-11-21</td>\n",
              "      <td>35</td>\n",
              "      <td>November</td>\n",
              "      <td>41</td>\n",
              "      <td>43.776923</td>\n",
              "    </tr>\n",
              "    <tr>\n",
              "      <th>41</th>\n",
              "      <td>2019-11-22</td>\n",
              "      <td>38</td>\n",
              "      <td>November</td>\n",
              "      <td>42</td>\n",
              "      <td>43.461163</td>\n",
              "    </tr>\n",
              "    <tr>\n",
              "      <th>42</th>\n",
              "      <td>2019-11-23</td>\n",
              "      <td>39</td>\n",
              "      <td>November</td>\n",
              "      <td>43</td>\n",
              "      <td>43.145403</td>\n",
              "    </tr>\n",
              "    <tr>\n",
              "      <th>43</th>\n",
              "      <td>2019-11-24</td>\n",
              "      <td>46</td>\n",
              "      <td>November</td>\n",
              "      <td>44</td>\n",
              "      <td>42.829644</td>\n",
              "    </tr>\n",
              "    <tr>\n",
              "      <th>44</th>\n",
              "      <td>2019-11-25</td>\n",
              "      <td>72</td>\n",
              "      <td>November</td>\n",
              "      <td>45</td>\n",
              "      <td>42.513884</td>\n",
              "    </tr>\n",
              "  </tbody>\n",
              "</table>\n",
              "</div>"
            ],
            "text/plain": [
              "         Date  Sales monthname  time  forcasted\n",
              "40 2019-11-21     35  November    41  43.776923\n",
              "41 2019-11-22     38  November    42  43.461163\n",
              "42 2019-11-23     39  November    43  43.145403\n",
              "43 2019-11-24     46  November    44  42.829644\n",
              "44 2019-11-25     72  November    45  42.513884"
            ]
          },
          "metadata": {},
          "execution_count": 62
        }
      ]
    },
    {
      "cell_type": "code",
      "metadata": {
        "id": "2k-ZIvwwS-rq"
      },
      "source": [
        "test2 = pd.merge(test2, group, on = 'monthname').rename(columns = {'SI':'correction factor'})"
      ],
      "execution_count": 63,
      "outputs": []
    },
    {
      "cell_type": "code",
      "metadata": {
        "id": "XZ8MA8cJTBHC"
      },
      "source": [
        "test2['forcast_fitted'] = test2['forcasted'] * test2['correction factor']"
      ],
      "execution_count": 64,
      "outputs": []
    },
    {
      "cell_type": "code",
      "metadata": {
        "colab": {
          "base_uri": "https://localhost:8080/",
          "height": 203
        },
        "id": "qWN8i6o-TDCx",
        "outputId": "e3c8bcce-7c91-486a-c02c-f6abe26ce77e"
      },
      "source": [
        "test2.head()"
      ],
      "execution_count": 65,
      "outputs": [
        {
          "output_type": "execute_result",
          "data": {
            "text/html": [
              "<div>\n",
              "<style scoped>\n",
              "    .dataframe tbody tr th:only-of-type {\n",
              "        vertical-align: middle;\n",
              "    }\n",
              "\n",
              "    .dataframe tbody tr th {\n",
              "        vertical-align: top;\n",
              "    }\n",
              "\n",
              "    .dataframe thead th {\n",
              "        text-align: right;\n",
              "    }\n",
              "</style>\n",
              "<table border=\"1\" class=\"dataframe\">\n",
              "  <thead>\n",
              "    <tr style=\"text-align: right;\">\n",
              "      <th></th>\n",
              "      <th>Date</th>\n",
              "      <th>Sales</th>\n",
              "      <th>monthname</th>\n",
              "      <th>time</th>\n",
              "      <th>forcasted</th>\n",
              "      <th>correction factor</th>\n",
              "      <th>forcast_fitted</th>\n",
              "    </tr>\n",
              "  </thead>\n",
              "  <tbody>\n",
              "    <tr>\n",
              "      <th>0</th>\n",
              "      <td>2019-11-21</td>\n",
              "      <td>35</td>\n",
              "      <td>November</td>\n",
              "      <td>41</td>\n",
              "      <td>43.776923</td>\n",
              "      <td>0.988165</td>\n",
              "      <td>43.258814</td>\n",
              "    </tr>\n",
              "    <tr>\n",
              "      <th>1</th>\n",
              "      <td>2019-11-22</td>\n",
              "      <td>38</td>\n",
              "      <td>November</td>\n",
              "      <td>42</td>\n",
              "      <td>43.461163</td>\n",
              "      <td>0.988165</td>\n",
              "      <td>42.946791</td>\n",
              "    </tr>\n",
              "    <tr>\n",
              "      <th>2</th>\n",
              "      <td>2019-11-23</td>\n",
              "      <td>39</td>\n",
              "      <td>November</td>\n",
              "      <td>43</td>\n",
              "      <td>43.145403</td>\n",
              "      <td>0.988165</td>\n",
              "      <td>42.634768</td>\n",
              "    </tr>\n",
              "    <tr>\n",
              "      <th>3</th>\n",
              "      <td>2019-11-24</td>\n",
              "      <td>46</td>\n",
              "      <td>November</td>\n",
              "      <td>44</td>\n",
              "      <td>42.829644</td>\n",
              "      <td>0.988165</td>\n",
              "      <td>42.322746</td>\n",
              "    </tr>\n",
              "    <tr>\n",
              "      <th>4</th>\n",
              "      <td>2019-11-25</td>\n",
              "      <td>72</td>\n",
              "      <td>November</td>\n",
              "      <td>45</td>\n",
              "      <td>42.513884</td>\n",
              "      <td>0.988165</td>\n",
              "      <td>42.010723</td>\n",
              "    </tr>\n",
              "  </tbody>\n",
              "</table>\n",
              "</div>"
            ],
            "text/plain": [
              "        Date  Sales monthname  ...  forcasted  correction factor  forcast_fitted\n",
              "0 2019-11-21     35  November  ...  43.776923           0.988165       43.258814\n",
              "1 2019-11-22     38  November  ...  43.461163           0.988165       42.946791\n",
              "2 2019-11-23     39  November  ...  43.145403           0.988165       42.634768\n",
              "3 2019-11-24     46  November  ...  42.829644           0.988165       42.322746\n",
              "4 2019-11-25     72  November  ...  42.513884           0.988165       42.010723\n",
              "\n",
              "[5 rows x 7 columns]"
            ]
          },
          "metadata": {},
          "execution_count": 65
        }
      ]
    },
    {
      "cell_type": "code",
      "metadata": {
        "colab": {
          "base_uri": "https://localhost:8080/"
        },
        "id": "l9L6KIJZTFjb",
        "outputId": "df0caf95-b494-4f45-d770-d39fa93d5e3f"
      },
      "source": [
        "error = train2['Sales'] - train2['fitted value']\n",
        "se = error.std()\n",
        "me = 1.96 * se\n",
        "me"
      ],
      "execution_count": 66,
      "outputs": [
        {
          "output_type": "execute_result",
          "data": {
            "text/plain": [
              "13.594548339759662"
            ]
          },
          "metadata": {},
          "execution_count": 66
        }
      ]
    },
    {
      "cell_type": "code",
      "metadata": {
        "id": "Ca_CfR1GTHjg"
      },
      "source": [
        "upper = test2['forcast_fitted'] + me\n",
        "lower = test2['forcast_fitted'] - me"
      ],
      "execution_count": 67,
      "outputs": []
    },
    {
      "cell_type": "code",
      "metadata": {
        "colab": {
          "base_uri": "https://localhost:8080/",
          "height": 483
        },
        "id": "7oYSj_fuTJZs",
        "outputId": "5ac6ca6b-dd79-4aca-904a-bd2a54147ad7"
      },
      "source": [
        "plt.figure(figsize = (12,8))\n",
        "plt.plot(train2['Date'], train2['Sales'], 'bo:')\n",
        "#sb.scatterplot('Years', 'Sales', data = train, hue = 'month', s= 200, palette='Set2')\n",
        "plt.plot(train2['Date'], train2['fitted value'], 'r')\n",
        "plt.plot(test2['Date'], test2['Sales'], 'yo:')\n",
        "#sb.scatterplot('Years', 'Sales', data = test, hue = 'month', s = 200, palette = 'Set2')\n",
        "plt.plot(test2['Date'],test2['forcast_fitted'], 'y' )\n",
        "plt.fill_between(test2['Date'], (upper), (lower), alpha = 0.1, color = 'black')\n",
        "plt.legend(['Train data','Train Fit Line','Test data','Test Fit Line','95% Confidence Interval'])\n",
        "plt.show()"
      ],
      "execution_count": 68,
      "outputs": [
        {
          "output_type": "display_data",
          "data": {
            "image/png": "[encoded data removed]",
            "text/plain": [
              "<Figure size 864x576 with 1 Axes>"
            ]
          },
          "metadata": {
            "needs_background": "light"
          }
        }
      ]
    },
    {
      "cell_type": "code",
      "metadata": {
        "id": "vXn8bRLZTMKQ"
      },
      "source": [
        ""
      ],
      "execution_count": 68,
      "outputs": []
    }
  ]
}